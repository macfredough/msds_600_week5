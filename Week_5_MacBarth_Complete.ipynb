{
 "cells": [
  {
   "cell_type": "markdown",
   "id": "165166dd",
   "metadata": {},
   "source": [
    "# DS Automation Assignment"
   ]
  },
  {
   "cell_type": "markdown",
   "id": "c195af74",
   "metadata": {},
   "source": [
    "Using our prepared churn data from week 2:\n",
    "- use TPOT to find an ML algorithm that performs best on the data\n",
    "    - Choose a metric you think is best to use for finding the best model; by default, it is accuracy but it could be AUC, precision, recall, etc. The week 3 FTE has some information on these different metrics.\n",
    "    - REMEMBER: TPOT only finds the optimized processing pipeline and model. It doesn't create the model. \n",
    "        - You can use `tpot.export('my_model_name.py')` (assuming you called your TPOT object tpot) and it will save a Python template with an example of the optimized pipeline. \n",
    "        - Use the template code saved from the `export()` function in your program.\n",
    "- create a Python script/file/module using code from the exported template above that\n",
    "    - create a function that takes a pandas dataframe as an input and returns the probability of churn for each row in the dataframe\n",
    "    - your Python file/function should print out the predictions for new data (new_churn_data.csv)\n",
    "    - the true values for the new data are [1, 0, 0, 1, 0] if you're interested\n",
    "- test your Python module and function with the new data, new_churn_data.csv\n",
    "- write a short summary of the process and results at the end of this notebook\n",
    "- upload this Jupyter Notebook and Python file to a Github repository, and turn in a link to the repository in the week 5 assignment dropbox\n",
    "\n",
    "*Optional* challenges:\n",
    "- return the probability of churn for each new prediction, and the percentile where that prediction is in the distribution of probability predictions from the training dataset (e.g. a high probability of churn like 0.78 might be at the 90th percentile)\n",
    "- use other autoML packages, such as TPOT, H2O, MLBox, etc, and compare performance and features with pycaret\n",
    "- create a class in your Python module to hold the functions that you created\n",
    "- accept user input to specify a file using a tool such as Python's `input()` function, the `click` package for command-line arguments, or a GUI\n",
    "- Use the unmodified churn data (new_unmodified_churn_data.csv) in your Python script. This will require adding the same preprocessing steps from week 2 since this data is like the original unmodified dataset from week 1."
   ]
  },
  {
   "cell_type": "code",
   "execution_count": 94,
   "id": "476ed965",
   "metadata": {},
   "outputs": [],
   "source": [
    "import pandas as pd\n",
    "import numpy as np"
   ]
  },
  {
   "cell_type": "code",
   "execution_count": 95,
   "id": "b5b41d7d-8580-4d8c-83f2-2ed79638d378",
   "metadata": {},
   "outputs": [],
   "source": [
    "import matplotlib.pyplot as plt\n",
    "%matplotlib inline\n",
    "import seaborn as sns"
   ]
  },
  {
   "cell_type": "code",
   "execution_count": 96,
   "id": "55496f33-5880-4be7-8d24-73a199620e88",
   "metadata": {},
   "outputs": [],
   "source": [
    "from sklearn.model_selection import train_test_split"
   ]
  },
  {
   "cell_type": "code",
   "execution_count": 97,
   "id": "6b270460-dadd-44d8-a7b4-7cd2e9e8cd59",
   "metadata": {},
   "outputs": [],
   "source": [
    "import warnings\n",
    "warnings.filterwarnings(\"ignore\")"
   ]
  },
  {
   "cell_type": "code",
   "execution_count": 98,
   "id": "89adf3fd-7a3e-407a-925f-17fc23ea149f",
   "metadata": {},
   "outputs": [
    {
     "name": "stdout",
     "output_type": "stream",
     "text": [
      "Requirement already satisfied: TPOT in c:\\users\\macfr\\anaconda3\\lib\\site-packages (0.11.7)\n",
      "Requirement already satisfied: tqdm>=4.36.1 in c:\\users\\macfr\\anaconda3\\lib\\site-packages (from TPOT) (4.64.0)\n",
      "Requirement already satisfied: scikit-learn>=0.22.0 in c:\\users\\macfr\\anaconda3\\lib\\site-packages (from TPOT) (1.0.2)\n",
      "Requirement already satisfied: pandas>=0.24.2 in c:\\users\\macfr\\anaconda3\\lib\\site-packages (from TPOT) (1.4.2)\n",
      "Requirement already satisfied: joblib>=0.13.2 in c:\\users\\macfr\\anaconda3\\lib\\site-packages (from TPOT) (1.1.0)\n",
      "Requirement already satisfied: scipy>=1.3.1 in c:\\users\\macfr\\anaconda3\\lib\\site-packages (from TPOT) (1.7.3)\n",
      "Requirement already satisfied: numpy>=1.16.3 in c:\\users\\macfr\\anaconda3\\lib\\site-packages (from TPOT) (1.21.5)\n",
      "Requirement already satisfied: stopit>=1.1.1 in c:\\users\\macfr\\anaconda3\\lib\\site-packages (from TPOT) (1.1.2)\n",
      "Requirement already satisfied: deap>=1.2 in c:\\users\\macfr\\anaconda3\\lib\\site-packages (from TPOT) (1.3.3)\n",
      "Requirement already satisfied: xgboost>=1.1.0 in c:\\users\\macfr\\anaconda3\\lib\\site-packages (from TPOT) (1.6.2)\n",
      "Requirement already satisfied: update-checker>=0.16 in c:\\users\\macfr\\anaconda3\\lib\\site-packages (from TPOT) (0.18.0)\n",
      "Requirement already satisfied: python-dateutil>=2.8.1 in c:\\users\\macfr\\anaconda3\\lib\\site-packages (from pandas>=0.24.2->TPOT) (2.8.2)\n",
      "Requirement already satisfied: pytz>=2020.1 in c:\\users\\macfr\\anaconda3\\lib\\site-packages (from pandas>=0.24.2->TPOT) (2021.3)\n",
      "Requirement already satisfied: six>=1.5 in c:\\users\\macfr\\anaconda3\\lib\\site-packages (from python-dateutil>=2.8.1->pandas>=0.24.2->TPOT) (1.16.0)\n",
      "Requirement already satisfied: threadpoolctl>=2.0.0 in c:\\users\\macfr\\anaconda3\\lib\\site-packages (from scikit-learn>=0.22.0->TPOT) (2.2.0)\n",
      "Requirement already satisfied: colorama in c:\\users\\macfr\\anaconda3\\lib\\site-packages (from tqdm>=4.36.1->TPOT) (0.4.4)\n",
      "Requirement already satisfied: requests>=2.3.0 in c:\\users\\macfr\\anaconda3\\lib\\site-packages (from update-checker>=0.16->TPOT) (2.27.1)\n",
      "Requirement already satisfied: urllib3<1.27,>=1.21.1 in c:\\users\\macfr\\anaconda3\\lib\\site-packages (from requests>=2.3.0->update-checker>=0.16->TPOT) (1.26.9)\n",
      "Requirement already satisfied: certifi>=2017.4.17 in c:\\users\\macfr\\anaconda3\\lib\\site-packages (from requests>=2.3.0->update-checker>=0.16->TPOT) (2021.10.8)\n",
      "Requirement already satisfied: idna<4,>=2.5 in c:\\users\\macfr\\anaconda3\\lib\\site-packages (from requests>=2.3.0->update-checker>=0.16->TPOT) (3.3)\n",
      "Requirement already satisfied: charset-normalizer~=2.0.0 in c:\\users\\macfr\\anaconda3\\lib\\site-packages (from requests>=2.3.0->update-checker>=0.16->TPOT) (2.0.4)\n"
     ]
    }
   ],
   "source": [
    "!pip install TPOT"
   ]
  },
  {
   "cell_type": "code",
   "execution_count": 99,
   "id": "4c0f4c10-afc5-47c0-97d7-844957d502b5",
   "metadata": {},
   "outputs": [
    {
     "name": "stdout",
     "output_type": "stream",
     "text": [
      "Requirement already satisfied: xgboost in c:\\users\\macfr\\anaconda3\\lib\\site-packages (1.6.2)\n",
      "Requirement already satisfied: scipy in c:\\users\\macfr\\anaconda3\\lib\\site-packages (from xgboost) (1.7.3)\n",
      "Requirement already satisfied: numpy in c:\\users\\macfr\\anaconda3\\lib\\site-packages (from xgboost) (1.21.5)\n"
     ]
    }
   ],
   "source": [
    "!pip install xgboost"
   ]
  },
  {
   "cell_type": "code",
   "execution_count": 100,
   "id": "eba6424a-0793-4e02-86b8-25a7d07bf584",
   "metadata": {},
   "outputs": [],
   "source": [
    "#import packages\n",
    "\n",
    "from tpot import TPOTClassifier\n",
    "from sklearn.model_selection import train_test_split\n",
    "import timeit"
   ]
  },
  {
   "cell_type": "code",
   "execution_count": 101,
   "id": "4835f83f-b79d-47ec-89d6-9b88bfdc17e9",
   "metadata": {
    "tags": []
   },
   "outputs": [
    {
     "data": {
      "text/html": [
       "<div>\n",
       "<style scoped>\n",
       "    .dataframe tbody tr th:only-of-type {\n",
       "        vertical-align: middle;\n",
       "    }\n",
       "\n",
       "    .dataframe tbody tr th {\n",
       "        vertical-align: top;\n",
       "    }\n",
       "\n",
       "    .dataframe thead th {\n",
       "        text-align: right;\n",
       "    }\n",
       "</style>\n",
       "<table border=\"1\" class=\"dataframe\">\n",
       "  <thead>\n",
       "    <tr style=\"text-align: right;\">\n",
       "      <th></th>\n",
       "      <th>tenure</th>\n",
       "      <th>PhoneService</th>\n",
       "      <th>Contract</th>\n",
       "      <th>PaymentMethod</th>\n",
       "      <th>MonthlyCharges</th>\n",
       "      <th>TotalCharges</th>\n",
       "      <th>Churn</th>\n",
       "      <th>charge_per_tenure</th>\n",
       "    </tr>\n",
       "    <tr>\n",
       "      <th>customerID</th>\n",
       "      <th></th>\n",
       "      <th></th>\n",
       "      <th></th>\n",
       "      <th></th>\n",
       "      <th></th>\n",
       "      <th></th>\n",
       "      <th></th>\n",
       "      <th></th>\n",
       "    </tr>\n",
       "  </thead>\n",
       "  <tbody>\n",
       "    <tr>\n",
       "      <th>7590-VHVEG</th>\n",
       "      <td>1</td>\n",
       "      <td>0</td>\n",
       "      <td>0</td>\n",
       "      <td>2</td>\n",
       "      <td>29.85</td>\n",
       "      <td>29.85</td>\n",
       "      <td>0</td>\n",
       "      <td>29.850000</td>\n",
       "    </tr>\n",
       "    <tr>\n",
       "      <th>5575-GNVDE</th>\n",
       "      <td>34</td>\n",
       "      <td>1</td>\n",
       "      <td>1</td>\n",
       "      <td>3</td>\n",
       "      <td>56.95</td>\n",
       "      <td>1889.50</td>\n",
       "      <td>0</td>\n",
       "      <td>55.573529</td>\n",
       "    </tr>\n",
       "    <tr>\n",
       "      <th>3668-QPYBK</th>\n",
       "      <td>2</td>\n",
       "      <td>1</td>\n",
       "      <td>0</td>\n",
       "      <td>3</td>\n",
       "      <td>53.85</td>\n",
       "      <td>108.15</td>\n",
       "      <td>1</td>\n",
       "      <td>54.075000</td>\n",
       "    </tr>\n",
       "    <tr>\n",
       "      <th>7795-CFOCW</th>\n",
       "      <td>45</td>\n",
       "      <td>0</td>\n",
       "      <td>1</td>\n",
       "      <td>0</td>\n",
       "      <td>42.30</td>\n",
       "      <td>1840.75</td>\n",
       "      <td>0</td>\n",
       "      <td>40.905556</td>\n",
       "    </tr>\n",
       "    <tr>\n",
       "      <th>9237-HQITU</th>\n",
       "      <td>2</td>\n",
       "      <td>1</td>\n",
       "      <td>0</td>\n",
       "      <td>2</td>\n",
       "      <td>70.70</td>\n",
       "      <td>151.65</td>\n",
       "      <td>1</td>\n",
       "      <td>75.825000</td>\n",
       "    </tr>\n",
       "  </tbody>\n",
       "</table>\n",
       "</div>"
      ],
      "text/plain": [
       "            tenure  PhoneService  Contract  PaymentMethod  MonthlyCharges  \\\n",
       "customerID                                                                  \n",
       "7590-VHVEG       1             0         0              2           29.85   \n",
       "5575-GNVDE      34             1         1              3           56.95   \n",
       "3668-QPYBK       2             1         0              3           53.85   \n",
       "7795-CFOCW      45             0         1              0           42.30   \n",
       "9237-HQITU       2             1         0              2           70.70   \n",
       "\n",
       "            TotalCharges  Churn  charge_per_tenure  \n",
       "customerID                                          \n",
       "7590-VHVEG         29.85      0          29.850000  \n",
       "5575-GNVDE       1889.50      0          55.573529  \n",
       "3668-QPYBK        108.15      1          54.075000  \n",
       "7795-CFOCW       1840.75      0          40.905556  \n",
       "9237-HQITU        151.65      1          75.825000  "
      ]
     },
     "execution_count": 101,
     "metadata": {},
     "output_type": "execute_result"
    }
   ],
   "source": [
    "#load 'prepped Churn' dataframe\n",
    "\n",
    "df = pd.read_csv('prepped_churn_data_913222.csv', index_col='customerID')\n",
    "#adjust column to match new_churn_data column name\n",
    "df.rename(columns = {'TotalCharges_tenure ratio':'charge_per_tenure'}, inplace=True)\n",
    "df.head()"
   ]
  },
  {
   "cell_type": "code",
   "execution_count": 102,
   "id": "a2266984-0235-4a92-b787-7671621b3519",
   "metadata": {},
   "outputs": [],
   "source": [
    "#Define features and targets\n",
    "features = df.drop('Churn', axis=1)\n",
    "targets = df['Churn']"
   ]
  },
  {
   "cell_type": "code",
   "execution_count": 103,
   "id": "491bf633-24aa-4121-9770-e231db104f15",
   "metadata": {},
   "outputs": [],
   "source": [
    "#Split into train and test sets  \n",
    "X_train, X_test, y_train, y_test = train_test_split(features, targets, train_size=0.7, test_size=0.3, random_state=42)"
   ]
  },
  {
   "cell_type": "code",
   "execution_count": 104,
   "id": "f50ece71-cd3c-4c6f-9a9e-5171e7b1a661",
   "metadata": {},
   "outputs": [
    {
     "data": {
      "application/vnd.jupyter.widget-view+json": {
       "model_id": "",
       "version_major": 2,
       "version_minor": 0
      },
      "text/plain": [
       "Optimization Progress:   0%|          | 0/300 [00:00<?, ?pipeline/s]"
      ]
     },
     "metadata": {},
     "output_type": "display_data"
    },
    {
     "name": "stdout",
     "output_type": "stream",
     "text": [
      "\n",
      "Generation 1 - Current best internal CV score: 0.8029278610044983\n",
      "\n",
      "Generation 2 - Current best internal CV score: 0.8029278610044983\n",
      "\n",
      "Generation 3 - Current best internal CV score: 0.8031323511204654\n",
      "\n",
      "Generation 4 - Current best internal CV score: 0.8039435021253766\n",
      "\n",
      "Generation 5 - Current best internal CV score: 0.8039435021253766\n",
      "\n",
      "Best pipeline: RandomForestClassifier(input_matrix, bootstrap=False, criterion=entropy, max_features=0.25, min_samples_leaf=12, min_samples_split=5, n_estimators=100)\n",
      "0.7834123222748816\n",
      "CPU times: total: 1min 46s\n",
      "Wall time: 2min 22s\n"
     ]
    }
   ],
   "source": [
    "%%time\n",
    "\n",
    "#runTPOTClassifier and print accuracy of test set\n",
    "tpot = TPOTClassifier(generations=5, population_size=50, verbosity=2, n_jobs=-1, random_state=42)\n",
    "tpot.fit(X_train, y_train)\n",
    "print (tpot.score(X_test, y_test))"
   ]
  },
  {
   "cell_type": "code",
   "execution_count": 105,
   "id": "fc120cc8-6d81-4d43-8e96-3ed19ed076a5",
   "metadata": {},
   "outputs": [],
   "source": [
    "from tpot import TPOTRegressor"
   ]
  },
  {
   "cell_type": "code",
   "execution_count": 106,
   "id": "18d54f06-b0f6-4177-8523-8da4fcdd1876",
   "metadata": {},
   "outputs": [
    {
     "data": {
      "application/vnd.jupyter.widget-view+json": {
       "model_id": "",
       "version_major": 2,
       "version_minor": 0
      },
      "text/plain": [
       "Optimization Progress:   0%|          | 0/300 [00:00<?, ?pipeline/s]"
      ]
     },
     "metadata": {},
     "output_type": "display_data"
    },
    {
     "name": "stdout",
     "output_type": "stream",
     "text": [
      "\n",
      "Generation 1 - Current best internal CV score: 0.30449926894584023\n",
      "\n",
      "Generation 2 - Current best internal CV score: 0.30449926894584023\n",
      "\n",
      "Generation 3 - Current best internal CV score: 0.30449926894584023\n",
      "\n",
      "Generation 4 - Current best internal CV score: 0.30449926894584023\n",
      "\n",
      "Generation 5 - Current best internal CV score: 0.30449926894584023\n",
      "\n",
      "Best pipeline: ExtraTreesRegressor(input_matrix, bootstrap=False, max_features=0.9000000000000001, min_samples_leaf=18, min_samples_split=20, n_estimators=100)\n",
      "0.27134789945491267\n",
      "CPU times: total: 1min 21s\n",
      "Wall time: 2min 30s\n"
     ]
    }
   ],
   "source": [
    "%%time\n",
    "#run tpot regressor and print r2 \n",
    "tpotRegressor = TPOTRegressor(generations=5, population_size=50, verbosity=2, n_jobs=-1, scoring='r2', random_state=42)\n",
    "tpotRegressor.fit(X_train, y_train)\n",
    "print(tpotRegressor.score(X_test, y_test))"
   ]
  },
  {
   "cell_type": "markdown",
   "id": "63e58817-022b-4385-803d-5c38aedab043",
   "metadata": {},
   "source": [
    "The TPOTClassifier came up with a better model than the TPOTRegressor"
   ]
  },
  {
   "cell_type": "code",
   "execution_count": 118,
   "id": "9b22a5ab-5fb5-4a80-9bcc-82941a03aafd",
   "metadata": {},
   "outputs": [],
   "source": [
    "#export classifer model to .py\n",
    "tpot.export('TPOTClassifierModel.py')"
   ]
  },
  {
   "cell_type": "code",
   "execution_count": 108,
   "id": "7a6f657a-d833-45cc-858b-776ad65727fd",
   "metadata": {},
   "outputs": [],
   "source": [
    "#import new_churn_data\n",
    "newchurndf = pd.read_csv('new_churn_data.csv', index_col='customerID')\n",
    "#rename Churn column to target to work in function\n",
    "df.rename(columns = {'Churn':'target'}, inplace = True)\n"
   ]
  },
  {
   "cell_type": "code",
   "execution_count": 109,
   "id": "6db93c2f-81db-408d-8daa-0784cdbc79df",
   "metadata": {},
   "outputs": [
    {
     "data": {
      "text/html": [
       "<div>\n",
       "<style scoped>\n",
       "    .dataframe tbody tr th:only-of-type {\n",
       "        vertical-align: middle;\n",
       "    }\n",
       "\n",
       "    .dataframe tbody tr th {\n",
       "        vertical-align: top;\n",
       "    }\n",
       "\n",
       "    .dataframe thead th {\n",
       "        text-align: right;\n",
       "    }\n",
       "</style>\n",
       "<table border=\"1\" class=\"dataframe\">\n",
       "  <thead>\n",
       "    <tr style=\"text-align: right;\">\n",
       "      <th></th>\n",
       "      <th>tenure</th>\n",
       "      <th>PhoneService</th>\n",
       "      <th>Contract</th>\n",
       "      <th>PaymentMethod</th>\n",
       "      <th>MonthlyCharges</th>\n",
       "      <th>TotalCharges</th>\n",
       "      <th>target</th>\n",
       "      <th>charge_per_tenure</th>\n",
       "    </tr>\n",
       "    <tr>\n",
       "      <th>customerID</th>\n",
       "      <th></th>\n",
       "      <th></th>\n",
       "      <th></th>\n",
       "      <th></th>\n",
       "      <th></th>\n",
       "      <th></th>\n",
       "      <th></th>\n",
       "      <th></th>\n",
       "    </tr>\n",
       "  </thead>\n",
       "  <tbody>\n",
       "    <tr>\n",
       "      <th>7590-VHVEG</th>\n",
       "      <td>1</td>\n",
       "      <td>0</td>\n",
       "      <td>0</td>\n",
       "      <td>2</td>\n",
       "      <td>29.85</td>\n",
       "      <td>29.85</td>\n",
       "      <td>0</td>\n",
       "      <td>29.850000</td>\n",
       "    </tr>\n",
       "    <tr>\n",
       "      <th>5575-GNVDE</th>\n",
       "      <td>34</td>\n",
       "      <td>1</td>\n",
       "      <td>1</td>\n",
       "      <td>3</td>\n",
       "      <td>56.95</td>\n",
       "      <td>1889.50</td>\n",
       "      <td>0</td>\n",
       "      <td>55.573529</td>\n",
       "    </tr>\n",
       "    <tr>\n",
       "      <th>3668-QPYBK</th>\n",
       "      <td>2</td>\n",
       "      <td>1</td>\n",
       "      <td>0</td>\n",
       "      <td>3</td>\n",
       "      <td>53.85</td>\n",
       "      <td>108.15</td>\n",
       "      <td>1</td>\n",
       "      <td>54.075000</td>\n",
       "    </tr>\n",
       "    <tr>\n",
       "      <th>7795-CFOCW</th>\n",
       "      <td>45</td>\n",
       "      <td>0</td>\n",
       "      <td>1</td>\n",
       "      <td>0</td>\n",
       "      <td>42.30</td>\n",
       "      <td>1840.75</td>\n",
       "      <td>0</td>\n",
       "      <td>40.905556</td>\n",
       "    </tr>\n",
       "    <tr>\n",
       "      <th>9237-HQITU</th>\n",
       "      <td>2</td>\n",
       "      <td>1</td>\n",
       "      <td>0</td>\n",
       "      <td>2</td>\n",
       "      <td>70.70</td>\n",
       "      <td>151.65</td>\n",
       "      <td>1</td>\n",
       "      <td>75.825000</td>\n",
       "    </tr>\n",
       "  </tbody>\n",
       "</table>\n",
       "</div>"
      ],
      "text/plain": [
       "            tenure  PhoneService  Contract  PaymentMethod  MonthlyCharges  \\\n",
       "customerID                                                                  \n",
       "7590-VHVEG       1             0         0              2           29.85   \n",
       "5575-GNVDE      34             1         1              3           56.95   \n",
       "3668-QPYBK       2             1         0              3           53.85   \n",
       "7795-CFOCW      45             0         1              0           42.30   \n",
       "9237-HQITU       2             1         0              2           70.70   \n",
       "\n",
       "            TotalCharges  target  charge_per_tenure  \n",
       "customerID                                           \n",
       "7590-VHVEG         29.85       0          29.850000  \n",
       "5575-GNVDE       1889.50       0          55.573529  \n",
       "3668-QPYBK        108.15       1          54.075000  \n",
       "7795-CFOCW       1840.75       0          40.905556  \n",
       "9237-HQITU        151.65       1          75.825000  "
      ]
     },
     "execution_count": 109,
     "metadata": {},
     "output_type": "execute_result"
    }
   ],
   "source": [
    "df.head()"
   ]
  },
  {
   "cell_type": "code",
   "execution_count": 110,
   "id": "8e5240be-676e-4122-be23-a9251897b1f8",
   "metadata": {},
   "outputs": [
    {
     "data": {
      "text/html": [
       "<div>\n",
       "<style scoped>\n",
       "    .dataframe tbody tr th:only-of-type {\n",
       "        vertical-align: middle;\n",
       "    }\n",
       "\n",
       "    .dataframe tbody tr th {\n",
       "        vertical-align: top;\n",
       "    }\n",
       "\n",
       "    .dataframe thead th {\n",
       "        text-align: right;\n",
       "    }\n",
       "</style>\n",
       "<table border=\"1\" class=\"dataframe\">\n",
       "  <thead>\n",
       "    <tr style=\"text-align: right;\">\n",
       "      <th></th>\n",
       "      <th>tenure</th>\n",
       "      <th>PhoneService</th>\n",
       "      <th>Contract</th>\n",
       "      <th>PaymentMethod</th>\n",
       "      <th>MonthlyCharges</th>\n",
       "      <th>TotalCharges</th>\n",
       "      <th>charge_per_tenure</th>\n",
       "    </tr>\n",
       "    <tr>\n",
       "      <th>customerID</th>\n",
       "      <th></th>\n",
       "      <th></th>\n",
       "      <th></th>\n",
       "      <th></th>\n",
       "      <th></th>\n",
       "      <th></th>\n",
       "      <th></th>\n",
       "    </tr>\n",
       "  </thead>\n",
       "  <tbody>\n",
       "    <tr>\n",
       "      <th>9305-CKSKC</th>\n",
       "      <td>22</td>\n",
       "      <td>1</td>\n",
       "      <td>0</td>\n",
       "      <td>2</td>\n",
       "      <td>97.40</td>\n",
       "      <td>811.70</td>\n",
       "      <td>36.895455</td>\n",
       "    </tr>\n",
       "    <tr>\n",
       "      <th>1452-KNGVK</th>\n",
       "      <td>8</td>\n",
       "      <td>0</td>\n",
       "      <td>1</td>\n",
       "      <td>1</td>\n",
       "      <td>77.30</td>\n",
       "      <td>1701.95</td>\n",
       "      <td>212.743750</td>\n",
       "    </tr>\n",
       "    <tr>\n",
       "      <th>6723-OKKJM</th>\n",
       "      <td>28</td>\n",
       "      <td>1</td>\n",
       "      <td>0</td>\n",
       "      <td>0</td>\n",
       "      <td>28.25</td>\n",
       "      <td>250.90</td>\n",
       "      <td>8.960714</td>\n",
       "    </tr>\n",
       "    <tr>\n",
       "      <th>7832-POPKP</th>\n",
       "      <td>62</td>\n",
       "      <td>1</td>\n",
       "      <td>0</td>\n",
       "      <td>2</td>\n",
       "      <td>101.70</td>\n",
       "      <td>3106.56</td>\n",
       "      <td>50.105806</td>\n",
       "    </tr>\n",
       "    <tr>\n",
       "      <th>6348-TACGU</th>\n",
       "      <td>10</td>\n",
       "      <td>0</td>\n",
       "      <td>0</td>\n",
       "      <td>1</td>\n",
       "      <td>51.15</td>\n",
       "      <td>3440.97</td>\n",
       "      <td>344.097000</td>\n",
       "    </tr>\n",
       "  </tbody>\n",
       "</table>\n",
       "</div>"
      ],
      "text/plain": [
       "            tenure  PhoneService  Contract  PaymentMethod  MonthlyCharges  \\\n",
       "customerID                                                                  \n",
       "9305-CKSKC      22             1         0              2           97.40   \n",
       "1452-KNGVK       8             0         1              1           77.30   \n",
       "6723-OKKJM      28             1         0              0           28.25   \n",
       "7832-POPKP      62             1         0              2          101.70   \n",
       "6348-TACGU      10             0         0              1           51.15   \n",
       "\n",
       "            TotalCharges  charge_per_tenure  \n",
       "customerID                                   \n",
       "9305-CKSKC        811.70          36.895455  \n",
       "1452-KNGVK       1701.95         212.743750  \n",
       "6723-OKKJM        250.90           8.960714  \n",
       "7832-POPKP       3106.56          50.105806  \n",
       "6348-TACGU       3440.97         344.097000  "
      ]
     },
     "execution_count": 110,
     "metadata": {},
     "output_type": "execute_result"
    }
   ],
   "source": [
    "newchurndf.head()"
   ]
  },
  {
   "cell_type": "code",
   "execution_count": 111,
   "id": "284fc3ba-0c98-4b82-9717-407a8b74f079",
   "metadata": {
    "tags": []
   },
   "outputs": [],
   "source": [
    "#Write function to call training data and new churn test data\n",
    "#Use pipeline defined in py export file\n",
    "\n",
    "import timeit \n",
    "from sklearn.ensemble import ExtraTreesClassifier\n",
    "from sklearn.model_selection import train_test_split\n",
    "from sklearn.naive_bayes import GaussianNB\n",
    "from sklearn.pipeline import make_pipeline, make_union\n",
    "from sklearn.preprocessing import Normalizer\n",
    "from tpot.builtins import StackingEstimator\n",
    "from tpot.export_utils import set_param_recursive\n",
    "\n",
    "from sklearn.decomposition import PCA\n",
    "from sklearn.ensemble import RandomForestClassifier\n",
    "\n",
    "def TPOT_Pipeline(trainingdata, testdata):\n",
    "    features = trainingdata.drop('target', axis=1)\n",
    "    targets = trainingdata['target']\n",
    "    \n",
    "    tpot_data = trainingdata.copy()\n",
    "    \n",
    "    training_features, testing_features, training_target, testing_target = \\\n",
    "            train_test_split(features, tpot_data['target'], random_state=42)\n",
    "\n",
    "    # Average CV score on the training set was: 0.8039435021253766\n",
    "    exported_pipeline = RandomForestClassifier(bootstrap=False, criterion=\"entropy\", max_features=0.25, min_samples_leaf=12, min_samples_split=5, n_estimators=100)\n",
    "    # Fix random state in exported estimator\n",
    "    if hasattr(exported_pipeline, 'random_state'):\n",
    "        setattr(exported_pipeline, 'random_state', 42)\n",
    "\n",
    "    exported_pipeline.fit(training_features, training_target)\n",
    "    results = exported_pipeline.predict(testdata)\n",
    "    print(results)\n",
    "    \n",
    "    testing_features = testdata\n",
    "    for row in range(len(testing_features)):\n",
    "        resultsproba = exported_pipeline.predict_proba(testing_features)\n",
    "        prob = (resultsproba[row][0]*100).round(decimals=1)\n",
    "        print({testing_features.index[row]}, {prob})\n"
   ]
  },
  {
   "cell_type": "code",
   "execution_count": 112,
   "id": "6bfc252f-be42-4f8d-8335-9f4ebed6d182",
   "metadata": {},
   "outputs": [
    {
     "name": "stdout",
     "output_type": "stream",
     "text": [
      "[0 0 0 0 0]\n",
      "{'9305-CKSKC'} {61.3}\n",
      "{'1452-KNGVK'} {78.4}\n",
      "{'6723-OKKJM'} {84.6}\n",
      "{'7832-POPKP'} {72.8}\n",
      "{'6348-TACGU'} {73.9}\n"
     ]
    }
   ],
   "source": [
    "#run function\n",
    "TPOT_Pipeline(df, newchurndf)"
   ]
  },
  {
   "cell_type": "code",
   "execution_count": 117,
   "id": "39a66594-c7cf-4c37-b41d-3efb083e5dcd",
   "metadata": {},
   "outputs": [
    {
     "name": "stdout",
     "output_type": "stream",
     "text": [
      "[0 0 0 0 0]\n",
      "{'9305-CKSKC'} {61.3}\n",
      "{'1452-KNGVK'} {78.4}\n",
      "{'6723-OKKJM'} {84.6}\n",
      "{'7832-POPKP'} {72.8}\n",
      "{'6348-TACGU'} {73.9}\n"
     ]
    }
   ],
   "source": [
    "#run python file\n",
    "%run TPOTClassifierModel.py"
   ]
  },
  {
   "cell_type": "code",
   "execution_count": 40,
   "id": "456b38c5-24f0-41c6-8f72-5c608d1df259",
   "metadata": {},
   "outputs": [
    {
     "name": "stdout",
     "output_type": "stream",
     "text": [
      "              precision    recall  f1-score   support\n",
      "\n",
      "           0       0.82      0.90      0.86      1033\n",
      "           1       0.62      0.44      0.51       374\n",
      "\n",
      "    accuracy                           0.78      1407\n",
      "   macro avg       0.72      0.67      0.69      1407\n",
      "weighted avg       0.76      0.78      0.77      1407\n",
      "\n"
     ]
    }
   ],
   "source": [
    "from sklearn.metrics import classification_report\n",
    "\n",
    "print(classification_report(y_test, tpot.predict(X_test)))"
   ]
  },
  {
   "cell_type": "markdown",
   "id": "4a2dc8cb-b36d-4c8f-9c21-189e000afddd",
   "metadata": {},
   "source": [
    "The recall is low for predicting customer churn. "
   ]
  },
  {
   "cell_type": "code",
   "execution_count": 45,
   "id": "06386935-b2aa-45cc-bd43-fc52e6197f19",
   "metadata": {},
   "outputs": [],
   "source": [
    "#Use predict proba to get probability of class 1 churn\n",
    "\n",
    "probabilities = tpot.predict_proba(X_test)[:, 1]"
   ]
  },
  {
   "cell_type": "code",
   "execution_count": 46,
   "id": "ffd3485d-34be-4177-8a77-6e8fd84e483e",
   "metadata": {},
   "outputs": [],
   "source": [
    "prob_df = pd.DataFrame(data={'predicted_probability': probabilities, 'target': y_test})"
   ]
  },
  {
   "cell_type": "code",
   "execution_count": 47,
   "id": "a26fb349-626b-4635-be0e-849e4e0026d2",
   "metadata": {},
   "outputs": [
    {
     "data": {
      "text/plain": [
       "<AxesSubplot:xlabel='predicted_probability', ylabel='Density'>"
      ]
     },
     "execution_count": 47,
     "metadata": {},
     "output_type": "execute_result"
    },
    {
     "data": {
      "image/png": "[encoded data removed]",
      "text/plain": [
       "<Figure size 432x288 with 1 Axes>"
      ]
     },
     "metadata": {
      "needs_background": "light"
     },
     "output_type": "display_data"
    }
   ],
   "source": [
    "sns.histplot(data=prob_df, x='predicted_probability', hue='target', stat='density', common_norm=False)"
   ]
  },
  {
   "cell_type": "markdown",
   "id": "92c2654e-146c-400a-ad95-2981729b55d6",
   "metadata": {},
   "source": [
    "The predictions are mostly good, but several low-confidence predictions below 0.5 for the occurence of customer churn"
   ]
  },
  {
   "cell_type": "code",
   "execution_count": 52,
   "id": "d1401d5d-b692-4ecc-bacd-a8afc9526a42",
   "metadata": {},
   "outputs": [
    {
     "data": {
      "text/html": [
       "<div>\n",
       "<style scoped>\n",
       "    .dataframe tbody tr th:only-of-type {\n",
       "        vertical-align: middle;\n",
       "    }\n",
       "\n",
       "    .dataframe tbody tr th {\n",
       "        vertical-align: top;\n",
       "    }\n",
       "\n",
       "    .dataframe thead th {\n",
       "        text-align: right;\n",
       "    }\n",
       "</style>\n",
       "<table border=\"1\" class=\"dataframe\">\n",
       "  <thead>\n",
       "    <tr style=\"text-align: right;\">\n",
       "      <th></th>\n",
       "      <th>predicted_probability</th>\n",
       "      <th>target</th>\n",
       "    </tr>\n",
       "    <tr>\n",
       "      <th>customerID</th>\n",
       "      <th></th>\n",
       "      <th></th>\n",
       "    </tr>\n",
       "  </thead>\n",
       "  <tbody>\n",
       "    <tr>\n",
       "      <th>1902-XBTFB</th>\n",
       "      <td>0.449331</td>\n",
       "      <td>1</td>\n",
       "    </tr>\n",
       "    <tr>\n",
       "      <th>9614-RMGHA</th>\n",
       "      <td>0.119801</td>\n",
       "      <td>1</td>\n",
       "    </tr>\n",
       "    <tr>\n",
       "      <th>4640-UHDOS</th>\n",
       "      <td>0.176066</td>\n",
       "      <td>1</td>\n",
       "    </tr>\n",
       "    <tr>\n",
       "      <th>4106-HADHQ</th>\n",
       "      <td>0.130348</td>\n",
       "      <td>1</td>\n",
       "    </tr>\n",
       "    <tr>\n",
       "      <th>9048-JVYVF</th>\n",
       "      <td>0.469597</td>\n",
       "      <td>1</td>\n",
       "    </tr>\n",
       "    <tr>\n",
       "      <th>...</th>\n",
       "      <td>...</td>\n",
       "      <td>...</td>\n",
       "    </tr>\n",
       "    <tr>\n",
       "      <th>6240-EURKS</th>\n",
       "      <td>0.260533</td>\n",
       "      <td>1</td>\n",
       "    </tr>\n",
       "    <tr>\n",
       "      <th>3164-AALRN</th>\n",
       "      <td>0.274341</td>\n",
       "      <td>1</td>\n",
       "    </tr>\n",
       "    <tr>\n",
       "      <th>0733-VUNUW</th>\n",
       "      <td>0.092895</td>\n",
       "      <td>1</td>\n",
       "    </tr>\n",
       "    <tr>\n",
       "      <th>0137-UDEUO</th>\n",
       "      <td>0.154773</td>\n",
       "      <td>1</td>\n",
       "    </tr>\n",
       "    <tr>\n",
       "      <th>8292-TYSPY</th>\n",
       "      <td>0.185334</td>\n",
       "      <td>1</td>\n",
       "    </tr>\n",
       "  </tbody>\n",
       "</table>\n",
       "<p>209 rows × 2 columns</p>\n",
       "</div>"
      ],
      "text/plain": [
       "            predicted_probability  target\n",
       "customerID                               \n",
       "1902-XBTFB               0.449331       1\n",
       "9614-RMGHA               0.119801       1\n",
       "4640-UHDOS               0.176066       1\n",
       "4106-HADHQ               0.130348       1\n",
       "9048-JVYVF               0.469597       1\n",
       "...                           ...     ...\n",
       "6240-EURKS               0.260533       1\n",
       "3164-AALRN               0.274341       1\n",
       "0733-VUNUW               0.092895       1\n",
       "0137-UDEUO               0.154773       1\n",
       "8292-TYSPY               0.185334       1\n",
       "\n",
       "[209 rows x 2 columns]"
      ]
     },
     "execution_count": 52,
     "metadata": {},
     "output_type": "execute_result"
    }
   ],
   "source": [
    "#index predicted_probability below 0.5 and target \n",
    "\n",
    "index = prob_df[(prob_df['target'] == 1) & (prob_df['predicted_probability'] < 0.5)].index\n",
    "prob_df.loc[index]"
   ]
  },
  {
   "cell_type": "code",
   "execution_count": null,
   "id": "5d553c16-a017-438d-a365-6b6ef8ddce4b",
   "metadata": {},
   "outputs": [
    {
     "data": {
      "text/html": [
       "<div>\n",
       "<style scoped>\n",
       "    .dataframe tbody tr th:only-of-type {\n",
       "        vertical-align: middle;\n",
       "    }\n",
       "\n",
       "    .dataframe tbody tr th {\n",
       "        vertical-align: top;\n",
       "    }\n",
       "\n",
       "    .dataframe thead th {\n",
       "        text-align: right;\n",
       "    }\n",
       "</style>\n",
       "<table border=\"1\" class=\"dataframe\">\n",
       "  <thead>\n",
       "    <tr style=\"text-align: right;\">\n",
       "      <th></th>\n",
       "      <th>tenure</th>\n",
       "      <th>PhoneService</th>\n",
       "      <th>Contract</th>\n",
       "      <th>PaymentMethod</th>\n",
       "      <th>MonthlyCharges</th>\n",
       "      <th>TotalCharges</th>\n",
       "      <th>TotalCharges_tenure ratio</th>\n",
       "    </tr>\n",
       "    <tr>\n",
       "      <th>customerID</th>\n",
       "      <th></th>\n",
       "      <th></th>\n",
       "      <th></th>\n",
       "      <th></th>\n",
       "      <th></th>\n",
       "      <th></th>\n",
       "      <th></th>\n",
       "    </tr>\n",
       "  </thead>\n",
       "  <tbody>\n",
       "    <tr>\n",
       "      <th>1902-XBTFB</th>\n",
       "      <td>22</td>\n",
       "      <td>1</td>\n",
       "      <td>0</td>\n",
       "      <td>2</td>\n",
       "      <td>89.40</td>\n",
       "      <td>2001.50</td>\n",
       "      <td>90.977273</td>\n",
       "    </tr>\n",
       "    <tr>\n",
       "      <th>9614-RMGHA</th>\n",
       "      <td>65</td>\n",
       "      <td>1</td>\n",
       "      <td>0</td>\n",
       "      <td>0</td>\n",
       "      <td>91.85</td>\n",
       "      <td>5940.85</td>\n",
       "      <td>91.397692</td>\n",
       "    </tr>\n",
       "    <tr>\n",
       "      <th>4640-UHDOS</th>\n",
       "      <td>13</td>\n",
       "      <td>1</td>\n",
       "      <td>0</td>\n",
       "      <td>2</td>\n",
       "      <td>55.95</td>\n",
       "      <td>734.35</td>\n",
       "      <td>56.488462</td>\n",
       "    </tr>\n",
       "    <tr>\n",
       "      <th>4106-HADHQ</th>\n",
       "      <td>39</td>\n",
       "      <td>1</td>\n",
       "      <td>1</td>\n",
       "      <td>1</td>\n",
       "      <td>80.00</td>\n",
       "      <td>3182.95</td>\n",
       "      <td>81.614103</td>\n",
       "    </tr>\n",
       "    <tr>\n",
       "      <th>9048-JVYVF</th>\n",
       "      <td>3</td>\n",
       "      <td>1</td>\n",
       "      <td>0</td>\n",
       "      <td>2</td>\n",
       "      <td>69.35</td>\n",
       "      <td>191.35</td>\n",
       "      <td>63.783333</td>\n",
       "    </tr>\n",
       "    <tr>\n",
       "      <th>...</th>\n",
       "      <td>...</td>\n",
       "      <td>...</td>\n",
       "      <td>...</td>\n",
       "      <td>...</td>\n",
       "      <td>...</td>\n",
       "      <td>...</td>\n",
       "      <td>...</td>\n",
       "    </tr>\n",
       "    <tr>\n",
       "      <th>6240-EURKS</th>\n",
       "      <td>18</td>\n",
       "      <td>0</td>\n",
       "      <td>0</td>\n",
       "      <td>2</td>\n",
       "      <td>35.00</td>\n",
       "      <td>553.00</td>\n",
       "      <td>30.722222</td>\n",
       "    </tr>\n",
       "    <tr>\n",
       "      <th>3164-AALRN</th>\n",
       "      <td>5</td>\n",
       "      <td>1</td>\n",
       "      <td>1</td>\n",
       "      <td>3</td>\n",
       "      <td>70.00</td>\n",
       "      <td>347.40</td>\n",
       "      <td>69.480000</td>\n",
       "    </tr>\n",
       "    <tr>\n",
       "      <th>0733-VUNUW</th>\n",
       "      <td>24</td>\n",
       "      <td>1</td>\n",
       "      <td>0</td>\n",
       "      <td>0</td>\n",
       "      <td>55.65</td>\n",
       "      <td>1400.55</td>\n",
       "      <td>58.356250</td>\n",
       "    </tr>\n",
       "    <tr>\n",
       "      <th>0137-UDEUO</th>\n",
       "      <td>3</td>\n",
       "      <td>1</td>\n",
       "      <td>0</td>\n",
       "      <td>3</td>\n",
       "      <td>19.85</td>\n",
       "      <td>63.75</td>\n",
       "      <td>21.250000</td>\n",
       "    </tr>\n",
       "    <tr>\n",
       "      <th>8292-TYSPY</th>\n",
       "      <td>19</td>\n",
       "      <td>1</td>\n",
       "      <td>0</td>\n",
       "      <td>1</td>\n",
       "      <td>55.00</td>\n",
       "      <td>1046.50</td>\n",
       "      <td>55.078947</td>\n",
       "    </tr>\n",
       "  </tbody>\n",
       "</table>\n",
       "<p>209 rows × 7 columns</p>\n",
       "</div>"
      ],
      "text/plain": [
       "            tenure  PhoneService  Contract  PaymentMethod  MonthlyCharges  \\\n",
       "customerID                                                                  \n",
       "1902-XBTFB      22             1         0              2           89.40   \n",
       "9614-RMGHA      65             1         0              0           91.85   \n",
       "4640-UHDOS      13             1         0              2           55.95   \n",
       "4106-HADHQ      39             1         1              1           80.00   \n",
       "9048-JVYVF       3             1         0              2           69.35   \n",
       "...            ...           ...       ...            ...             ...   \n",
       "6240-EURKS      18             0         0              2           35.00   \n",
       "3164-AALRN       5             1         1              3           70.00   \n",
       "0733-VUNUW      24             1         0              0           55.65   \n",
       "0137-UDEUO       3             1         0              3           19.85   \n",
       "8292-TYSPY      19             1         0              1           55.00   \n",
       "\n",
       "            TotalCharges  TotalCharges_tenure ratio  \n",
       "customerID                                           \n",
       "1902-XBTFB       2001.50                  90.977273  \n",
       "9614-RMGHA       5940.85                  91.397692  \n",
       "4640-UHDOS        734.35                  56.488462  \n",
       "4106-HADHQ       3182.95                  81.614103  \n",
       "9048-JVYVF        191.35                  63.783333  \n",
       "...                  ...                        ...  \n",
       "6240-EURKS        553.00                  30.722222  \n",
       "3164-AALRN        347.40                  69.480000  \n",
       "0733-VUNUW       1400.55                  58.356250  \n",
       "0137-UDEUO         63.75                  21.250000  \n",
       "8292-TYSPY       1046.50                  55.078947  \n",
       "\n",
       "[209 rows x 7 columns]"
      ]
     },
     "execution_count": 50,
     "metadata": {},
     "output_type": "execute_result"
    }
   ],
   "source": [
    "X_test.loc[index]"
   ]
  },
  {
   "cell_type": "markdown",
   "id": "af328cf8-f56b-4593-9cd1-204388248e74",
   "metadata": {},
   "source": [
    "It looks like these customers that have low probability predictions for churn also have similar values for phone service and contract.  It was determined in week 3 assignment that both phone service and contract were negatively correlated with churn.  Although, in week 4 assignment the contract was rated highly for feature importance.  It would be interesting to analyze this data again and drop phoneservice and/or contract before analyzing using TPOT."
   ]
  },
  {
   "cell_type": "markdown",
   "id": "c49db562",
   "metadata": {},
   "source": [
    "# Summary"
   ]
  },
  {
   "cell_type": "markdown",
   "id": "9533a1cd",
   "metadata": {},
   "source": [
    "Write a short summary of the process and results here."
   ]
  },
  {
   "cell_type": "markdown",
   "id": "29730b78-cd4e-4b4a-8ee8-a84151672946",
   "metadata": {},
   "source": [
    "In summary an automated machine learning python file was generated using TPOT and loaded to GitHub for use on new customer data to predict churn.  Both TPOTClassifier and TPOTRegressor were utlized to determine which came up with a better model to employ.  TPOTClassifier came up with a better model judging by its accuracy score of 0.804 using a RandomForrestClassifier.  The pipeline was exported to a python file and the file was modified to run the the model against the new churn data provided.  The model predicted that none of the customers from the new data would churn (0,0,0,0,0) with probabilities all above 60%.  The assignment states that the real values for customer churn are (1,0,0,1,0).  It is apparent that the model needs some further tuning to better predict customer churn.  As stated above it would be worth revisiting this data and dropping phoneservice and contract from data before running TPOT to see if the model improves."
   ]
  }
 ],
 "metadata": {
  "kernelspec": {
   "display_name": "Python 3 (ipykernel)",
   "language": "python",
   "name": "python3"
  },
  "language_info": {
   "codemirror_mode": {
    "name": "ipython",
    "version": 3
   },
   "file_extension": ".py",
   "mimetype": "text/x-python",
   "name": "python",
   "nbconvert_exporter": "python",
   "pygments_lexer": "ipython3",
   "version": "3.9.12"
  },
  "vscode": {
   "interpreter": {
    "hash": "e5a5a5dcfe8c405964b888b7eb63d71c041385b923cf8ef6565c4fe595d89b61"
   }
  }
 },
 "nbformat": 4,
 "nbformat_minor": 5
}
